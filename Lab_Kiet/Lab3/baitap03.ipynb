{
 "cells": [
  {
   "cell_type": "code",
   "execution_count": 1,
   "id": "d89a8dce-516c-4ff2-a54c-12995200ea3f",
   "metadata": {},
   "outputs": [
    {
     "name": "stderr",
     "output_type": "stream",
     "text": [
      "24/11/02 22:11:01 WARN Utils: Service 'SparkUI' could not bind on port 4040. Attempting port 4041.\n"
     ]
    }
   ],
   "source": [
    "from pyspark import SparkContext, SparkConf\n",
    "\n",
    "if 'sc' in locals():\n",
    "    sc.stop()\n",
    "\n",
    "conf = SparkConf().setAppName('appName').setMaster(\"local\")\n",
    "sc = SparkContext(conf=conf)"
   ]
  },
  {
   "cell_type": "code",
   "execution_count": 2,
   "id": "0cee3f46-30c5-49b0-9381-8f6b887d7645",
   "metadata": {},
   "outputs": [
    {
     "data": {
      "text/plain": [
       "'local-1730560261887'"
      ]
     },
     "execution_count": 2,
     "metadata": {},
     "output_type": "execute_result"
    }
   ],
   "source": [
    "sc.applicationId"
   ]
  },
  {
   "cell_type": "code",
   "execution_count": 3,
   "id": "476d91cd-b55f-4f97-9808-02a852092237",
   "metadata": {},
   "outputs": [],
   "source": [
    "import math"
   ]
  },
  {
   "cell_type": "code",
   "execution_count": 4,
   "id": "694e65d3-35df-4f66-8ff8-6ced0af7f848",
   "metadata": {},
   "outputs": [
    {
     "name": "stdout",
     "output_type": "stream",
     "text": [
      "Nội dung của RDD fractions_rdd:\n",
      "2/3\n",
      "5/6\n",
      "7/8\n",
      "1/2\n",
      "9/10\n"
     ]
    }
   ],
   "source": [
    "fractions_rdd = sc.textFile(\"Downloads/data_phanso\")\n",
    "fractions = fractions_rdd.collect()\n",
    "print(\"Nội dung của RDD fractions_rdd:\")\n",
    "for fraction in fractions:\n",
    "    print(fraction)\n"
   ]
  },
  {
   "cell_type": "code",
   "execution_count": 5,
   "id": "e81498e0-687b-4ff8-935c-03fddc1c7d8e",
   "metadata": {},
   "outputs": [
    {
     "name": "stderr",
     "output_type": "stream",
     "text": [
      "                                                                                \r"
     ]
    },
    {
     "name": "stdout",
     "output_type": "stream",
     "text": [
      "Tổng các phân số là: 151/40\n"
     ]
    }
   ],
   "source": [
    "def add_fractions(fraction1, fraction2):\n",
    "    num1, denom1 = map(int, fraction1.split('/'))\n",
    "    num2, denom2 = map(int, fraction2.split('/'))\n",
    "    numerator = num1 * denom2 + num2 * denom1\n",
    "    denominator = denom1 * denom2\n",
    "    return f\"{numerator}/{denominator}\"\n",
    "\n",
    "total_fraction = fractions_rdd.reduce(add_fractions)\n",
    "\n",
    "def gcd(a, b):\n",
    "    while b:\n",
    "        a, b = b, a % b\n",
    "    return a\n",
    "\n",
    "def simplify_fraction(fraction):\n",
    "    num, denom = map(int, fraction.split('/'))\n",
    "    divisor = gcd(num, denom)\n",
    "    return f\"{num // divisor}/{denom // divisor}\"\n",
    "\n",
    "total_fraction_simplified = simplify_fraction(total_fraction)\n",
    "\n",
    "print(f\"Tổng các phân số là: {total_fraction_simplified}\")\n",
    "\n",
    "sc.stop()"
   ]
  }
 ],
 "metadata": {
  "kernelspec": {
   "display_name": "Python 3 (ipykernel)",
   "language": "python",
   "name": "python3"
  },
  "language_info": {
   "codemirror_mode": {
    "name": "ipython",
    "version": 3
   },
   "file_extension": ".py",
   "mimetype": "text/x-python",
   "name": "python",
   "nbconvert_exporter": "python",
   "pygments_lexer": "ipython3",
   "version": "3.10.12"
  }
 },
 "nbformat": 4,
 "nbformat_minor": 5
}
