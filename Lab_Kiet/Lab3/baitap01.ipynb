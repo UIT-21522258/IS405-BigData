{
 "cells": [
  {
   "cell_type": "code",
   "execution_count": 1,
   "id": "013006d4-875f-4f91-a925-4cd4202f0dcd",
   "metadata": {},
   "outputs": [],
   "source": [
    "from pyspark import SparkContext, SparkConf\n",
    "\n",
    "if 'sc' in locals():\n",
    "    sc.stop()\n",
    "\n",
    "conf = SparkConf().setAppName('appName').setMaster(\"local\")\n",
    "sc = SparkContext(conf=conf)"
   ]
  },
  {
   "cell_type": "code",
   "execution_count": 2,
   "id": "1ceccd02-b8c0-4997-9bbe-f84fb7a1180c",
   "metadata": {},
   "outputs": [
    {
     "data": {
      "text/plain": [
       "'local-1730560148036'"
      ]
     },
     "execution_count": 2,
     "metadata": {},
     "output_type": "execute_result"
    }
   ],
   "source": [
    "sc.applicationId"
   ]
  },
  {
   "cell_type": "code",
   "execution_count": 3,
   "id": "85c5a613-43ce-40bb-9dbc-e6e2f7f4f449",
   "metadata": {},
   "outputs": [
    {
     "name": "stdout",
     "output_type": "stream",
     "text": [
      "[52.22079468148059, 72.7321443812841, 56.76496917955207, 76.31332017878049, 73.37849890563457, 85.27589612101366, 4.437097213898573, 64.49762464113624, 57.974175199502916, 88.03512121416536, 36.31735597249343, 93.13212959626874, 41.60620682731999, 85.96024540752889, 96.86037254362503, 73.75933760548041, 91.29716115028792, 6.530180970762204, 78.65613864942026, 78.44561282762446, 92.12778877296246, 13.149375857694267, 96.3137892092317, 36.391068397958534, 20.31240086287749, 68.33888764520039, 2.861820013330367, 2.819263083323897, 46.32348395486255, 54.201525726627445, 25.11078320814302, 81.1466743848417, 50.01634444351157, 18.66235138899085, 37.738135415482446, 45.5992948496829, 94.06464665867989, 38.922415694563455, 83.13272596603147, 11.807246329374252, 54.98218590387253, 43.57568114222721, 76.63280184388204, 84.23933379209545, 82.31890764658182, 40.86228543606185, 10.7349315235405, 93.117648290995, 24.693398078422963, 11.946226520494278, 8.720099478693065, 73.39494589506786, 28.51515822016019, 98.58922856670765, 50.258478072383106, 86.70533548261655, 11.01263197069477, 17.487670573203033, 72.62903760736437, 24.458905896109016, 16.075149953436895, 92.09694130875319, 37.348592803288966, 65.54981981697347, 95.55241981847942, 88.65203927813462, 74.61135586013991, 30.130868998018684, 58.16804727155508, 89.3532080284143, 24.90287195578374, 49.67249630045832, 53.023136778285675, 87.35965314525926, 56.517991851513834, 3.059126593141996, 76.72881863133192, 12.130948214973872, 94.48283237664936, 62.535579401864446, 17.64529474636616, 82.91199418468783, 3.737263435973017, 95.79138882067058, 75.44150969649934, 77.54124395574551, 40.27710397579855, 38.20801850696206, 42.01254758017589, 42.2227736669837, 33.17548903944334, 5.453563111656539, 93.2951618593062, 55.23372749270637, 16.81895816450323, 9.365575698241864, 29.19686306285676, 36.67573368501843, 12.794738932106203, 80.51064975305404]\n"
     ]
    }
   ],
   "source": [
    "import random\n",
    "data = [random.uniform(1, 100) for _ in range(100)]\n",
    "rdd = sc.parallelize(data)\n",
    "print(data)"
   ]
  },
  {
   "cell_type": "code",
   "execution_count": 4,
   "id": "a838e649-64b5-4ceb-98be-5d7111bf116c",
   "metadata": {},
   "outputs": [
    {
     "name": "stderr",
     "output_type": "stream",
     "text": [
      "                                                                                \r"
     ]
    },
    {
     "name": "stdout",
     "output_type": "stream",
     "text": [
      "Trung binh cong cua day so: 52.84370794827016\n"
     ]
    }
   ],
   "source": [
    "TongSoThuc = rdd.reduce(lambda x, sum:sum+x)\n",
    "TrungBinhCong = TongSoThuc/rdd.count()\n",
    "print(f\"Trung binh cong cua day so: {TrungBinhCong}\")"
   ]
  },
  {
   "cell_type": "code",
   "execution_count": 5,
   "id": "90c9d76a-a827-4909-9654-adf08d223746",
   "metadata": {},
   "outputs": [
    {
     "name": "stdout",
     "output_type": "stream",
     "text": [
      "Trung binh nhan cua day so: 39.686534603681515\n"
     ]
    }
   ],
   "source": [
    "TichCacSoThuc = rdd.reduce(lambda x, mul:mul*x)\n",
    "TrungBinhTich = TichCacSoThuc ** (1/rdd.count())\n",
    "print(f\"Trung binh nhan cua day so: {TrungBinhTich}\")"
   ]
  },
  {
   "cell_type": "code",
   "execution_count": 6,
   "id": "7576781a-1f82-4f4b-9bac-4cdc2f94b4cf",
   "metadata": {},
   "outputs": [],
   "source": [
    "sc.stop()"
   ]
  }
 ],
 "metadata": {
  "kernelspec": {
   "display_name": "Python 3 (ipykernel)",
   "language": "python",
   "name": "python3"
  },
  "language_info": {
   "codemirror_mode": {
    "name": "ipython",
    "version": 3
   },
   "file_extension": ".py",
   "mimetype": "text/x-python",
   "name": "python",
   "nbconvert_exporter": "python",
   "pygments_lexer": "ipython3",
   "version": "3.10.12"
  }
 },
 "nbformat": 4,
 "nbformat_minor": 5
}
