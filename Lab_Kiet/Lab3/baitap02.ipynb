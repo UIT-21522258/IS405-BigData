{
 "cells": [
  {
   "cell_type": "code",
   "execution_count": 1,
   "id": "77a00986-fce2-42b5-a295-c96be84af040",
   "metadata": {},
   "outputs": [],
   "source": [
    "from pyspark import SparkContext, SparkConf\n",
    "\n",
    "if 'sc' in locals():\n",
    "    sc.stop()\n",
    "\n",
    "conf = SparkConf().setAppName('appName').setMaster(\"local\")\n",
    "sc = SparkContext(conf=conf)"
   ]
  },
  {
   "cell_type": "code",
   "execution_count": 2,
   "id": "de2963ce-7cac-4bf3-9856-68e3dff467c7",
   "metadata": {},
   "outputs": [
    {
     "data": {
      "text/plain": [
       "'local-1730560191949'"
      ]
     },
     "execution_count": 2,
     "metadata": {},
     "output_type": "execute_result"
    }
   ],
   "source": [
    "sc.applicationId"
   ]
  },
  {
   "cell_type": "code",
   "execution_count": 3,
   "id": "4b0a3c89-5809-4e69-84dc-951e3fc7319d",
   "metadata": {},
   "outputs": [
    {
     "name": "stdout",
     "output_type": "stream",
     "text": [
      "[5.592901799056774, 81.32391835644512, 46.76106108533028, 67.21296055687097, 81.82683374950808, 26.42857270380164, 63.196344513351995, 31.69298642227991, 98.45728353338392, 71.86072726663792, 34.78470121377699, 71.46406715775535, 25.257987982885105, 75.37956953698952, 56.22430881674962, 48.25427957232179, 99.54591038810504, 80.30325043393826, 74.50278308248886, 46.182466684759966, 2.7692064440307296, 58.33689599284757, 79.72520817520078, 53.4139307662142, 8.45237172833374, 42.04717192975177, 97.14002563066775, 44.118314296421545, 77.28588078806719, 93.86639269373718, 15.759990545527351, 25.704732962881256, 14.168193386588227, 81.99778158524722, 69.15554531968901, 93.99737314583096, 99.86021880689759, 6.661716259481307, 43.00983242882735, 36.88567002414359, 15.660433429419717, 70.68511106308583, 6.522092061648423, 56.48549278823433, 7.316649764539094, 4.299982052703092, 2.565393521940142, 2.7043502369344834, 70.13189635843905, 43.523446553957235, 65.45058686942991, 80.92914125004654, 86.19813641556244, 95.28969602305192, 21.5922049821796, 55.581273254247954, 42.9562500270565, 60.71936798676838, 45.06005404170011, 55.9771675454124, 42.99200440179679, 72.89500668784338, 48.30129584851681, 24.835267192129415, 34.639944439615455, 96.64067246694316, 93.08005248210978, 17.370631343981906, 47.20107790715766, 60.14879706262546, 6.41409820279272, 61.804356573692395, 21.795585009688853, 42.689763049066244, 9.311814542796837, 20.617247286663133, 8.865167380485158, 35.43971311167901, 97.87379701287999, 17.117327591151913, 82.88282978781298, 4.376994737975451, 26.051025624903136, 17.280433772734813, 14.638851515747884, 5.624732362116526, 88.37169211589331, 60.72185340511393, 81.47092768812725, 13.815367310384758, 94.14322004015534, 34.43555419825772, 92.2672340617776, 76.26974645600296, 95.5883053866165, 94.470605127013, 58.56583444825856, 15.421446954281777, 63.11165783331175, 74.94551208543058]\n"
     ]
    }
   ],
   "source": [
    "import random\n",
    "data = [random.uniform(1, 100) for _ in range(100)]\n",
    "rdd = sc.parallelize(data)\n",
    "print(data)"
   ]
  },
  {
   "cell_type": "code",
   "execution_count": 4,
   "id": "9f7da20c-9db1-47d1-b561-87eaa741e435",
   "metadata": {},
   "outputs": [
    {
     "name": "stderr",
     "output_type": "stream",
     "text": [
      "[Stage 0:>                                                          (0 + 1) / 1]\r"
     ]
    },
    {
     "name": "stdout",
     "output_type": "stream",
     "text": [
      "Trung binh cong cua day so: 50.747455384987134\n"
     ]
    },
    {
     "name": "stderr",
     "output_type": "stream",
     "text": [
      "                                                                                \r"
     ]
    }
   ],
   "source": [
    "TongSoThuc = rdd.reduce(lambda x, sum:sum+x)\n",
    "TrungBinhCong = TongSoThuc/rdd.count()\n",
    "print(f\"Trung binh cong cua day so: {TrungBinhCong}\")"
   ]
  },
  {
   "cell_type": "code",
   "execution_count": 5,
   "id": "f9e48119-d559-4026-bad0-ddc32bd8f5c7",
   "metadata": {},
   "outputs": [
    {
     "name": "stdout",
     "output_type": "stream",
     "text": [
      "Phuong sai: 929.950193296503\n"
     ]
    }
   ],
   "source": [
    "PhuongSai = (rdd.map(lambda x:(x-TrungBinhCong)**2).reduce(lambda x, sum:sum+x)) / rdd.count()\n",
    "print(f\"Phuong sai: {PhuongSai}\")"
   ]
  },
  {
   "cell_type": "code",
   "execution_count": 6,
   "id": "1f2c5a5b-402f-46ef-9bc3-57f3516e5942",
   "metadata": {},
   "outputs": [
    {
     "name": "stdout",
     "output_type": "stream",
     "text": [
      "Do lech chuan: 30.495084739946257\n"
     ]
    }
   ],
   "source": [
    "DoLechChuan = PhuongSai ** (1/2)\n",
    "print(f\"Do lech chuan: {DoLechChuan}\")"
   ]
  },
  {
   "cell_type": "code",
   "execution_count": 7,
   "id": "9faf3bd5-eac4-40bc-9fdd-246d1fb3dbe4",
   "metadata": {},
   "outputs": [
    {
     "data": {
      "text/plain": [
       "<bound method SparkContext.stop of <SparkContext master=local appName=appName>>"
      ]
     },
     "execution_count": 7,
     "metadata": {},
     "output_type": "execute_result"
    }
   ],
   "source": [
    "sc.stop"
   ]
  }
 ],
 "metadata": {
  "kernelspec": {
   "display_name": "Python 3 (ipykernel)",
   "language": "python",
   "name": "python3"
  },
  "language_info": {
   "codemirror_mode": {
    "name": "ipython",
    "version": 3
   },
   "file_extension": ".py",
   "mimetype": "text/x-python",
   "name": "python",
   "nbconvert_exporter": "python",
   "pygments_lexer": "ipython3",
   "version": "3.10.12"
  }
 },
 "nbformat": 4,
 "nbformat_minor": 5
}
