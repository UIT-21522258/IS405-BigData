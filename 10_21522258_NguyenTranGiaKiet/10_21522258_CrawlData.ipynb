{
 "cells": [
  {
   "cell_type": "code",
   "execution_count": 1,
   "metadata": {},
   "outputs": [
    {
     "name": "stdout",
     "output_type": "stream",
     "text": [
      "Found 6 CSV files. Merging...\n",
      "\n",
      "Merging complete!\n",
      "Total files merged: 6\n",
      "Output directory: amazon_products1\n",
      "Total rows in merged file: 8974\n"
     ]
    }
   ],
   "source": [
    "import os\n",
    "from pyspark.sql import SparkSession\n",
    "\n",
    "def merge_csv_files_with_spark(input_directory, output_file='merged_output.csv'):\n",
    "    # Khởi tạo SparkSession\n",
    "    spark = SparkSession.builder \\\n",
    "        .appName(\"CSVFilesMerger\") \\\n",
    "        .getOrCreate()\n",
    "\n",
    "    # Kiểm tra xem thư mục đầu vào có tồn tại không\n",
    "    if not os.path.exists(input_directory):\n",
    "        print(f\"Error: Directory {input_directory} does not exist.\")\n",
    "        return 0\n",
    "\n",
    "    # Danh sách các tệp CSV\n",
    "    csv_files = [os.path.join(input_directory, f) for f in os.listdir(input_directory) if f.endswith('.csv')]\n",
    "\n",
    "    # Kiểm tra nếu không có tệp nào\n",
    "    if not csv_files:\n",
    "        print(\"No CSV files found in the directory.\")\n",
    "        return 0\n",
    "\n",
    "    print(f\"Found {len(csv_files)} CSV files. Merging...\")\n",
    "\n",
    "    # Đọc và hợp nhất tất cả các tệp CSV\n",
    "    merged_df = spark.read.option(\"header\", \"true\").csv(csv_files)\n",
    "\n",
    "    # Tạo thư mục đầu ra nếu chưa tồn tại\n",
    "    output_directory = os.path.dirname(output_file) or '.'\n",
    "    os.makedirs(output_directory, exist_ok=True)\n",
    "\n",
    "    # Ghi tệp hợp nhất ra CSV\n",
    "    merged_df.coalesce(1).write.option(\"header\", \"true\").csv(output_file, mode=\"overwrite\")\n",
    "\n",
    "    print(f\"\\nMerging complete!\")\n",
    "    print(f\"Total files merged: {len(csv_files)}\")\n",
    "    print(f\"Output directory: {output_file}\")\n",
    "    print(f\"Total rows in merged file: {merged_df.count()}\")\n",
    "\n",
    "    # Dừng SparkSession\n",
    "    spark.stop()\n",
    "\n",
    "    return len(csv_files)\n",
    "\n",
    "def main():\n",
    "    # Example usage\n",
    "    input_directory = 'D:/app/Bigdata-IS405.P11/Crawl/Airflow/airflow/data/amazon_scraper_output'  # Directory containing CSV files\n",
    "    output_file = 'amazon_products1'  # Output directory for merged file (Spark outputs as a directory)\n",
    "\n",
    "    merge_csv_files_with_spark(input_directory, output_file)\n",
    "\n",
    "if __name__ == \"__main__\":\n",
    "    main()\n"
   ]
  },
  {
   "cell_type": "code",
   "execution_count": null,
   "metadata": {},
   "outputs": [],
   "source": []
  }
 ],
 "metadata": {
  "kernelspec": {
   "display_name": "Python 3",
   "language": "python",
   "name": "python3"
  },
  "language_info": {
   "codemirror_mode": {
    "name": "ipython",
    "version": 3
   },
   "file_extension": ".py",
   "mimetype": "text/x-python",
   "name": "python",
   "nbconvert_exporter": "python",
   "pygments_lexer": "ipython3",
   "version": "3.11.9"
  }
 },
 "nbformat": 4,
 "nbformat_minor": 2
}
