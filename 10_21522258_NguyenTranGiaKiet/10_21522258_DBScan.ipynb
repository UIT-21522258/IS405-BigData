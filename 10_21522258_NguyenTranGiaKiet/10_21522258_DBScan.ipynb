{
  "cells": [
    {
      "cell_type": "code",
      "execution_count": 1,
      "metadata": {
        "colab": {
          "base_uri": "https://localhost:8080/"
        },
        "id": "XXdNpa13Mx2E",
        "outputId": "e13792bf-ed52-44c1-84d4-7341327d7a76"
      },
      "outputs": [
        {
          "name": "stdout",
          "output_type": "stream",
          "text": [
            "Requirement already satisfied: pyspark in /usr/local/lib/python3.10/dist-packages (3.5.3)\n",
            "Requirement already satisfied: py4j==0.10.9.7 in /usr/local/lib/python3.10/dist-packages (from pyspark) (0.10.9.7)\n"
          ]
        }
      ],
      "source": [
        "!pip install pyspark"
      ]
    },
    {
      "cell_type": "code",
      "execution_count": 1,
      "metadata": {
        "colab": {
          "base_uri": "https://localhost:8080/"
        },
        "id": "AnhdswgHN8O5",
        "outputId": "347af272-6d75-42d6-8efc-7bc11d7ba4eb"
      },
      "outputs": [
        {
          "name": "stdout",
          "output_type": "stream",
          "text": [
            "PySpark Version: 3.5.3\n"
          ]
        }
      ],
      "source": [
        "from pyspark.sql import SparkSession\n",
        "spark = SparkSession.builder.appName(\"DBSCAN\")\\\n",
        "                            .config(\"spark.driver.memory\", \"12g\")\\\n",
        "                            .config(\"spark.driver.maxResultSize\", \"2g\")\\\n",
        "                            .getOrCreate()\n",
        "print(\"PySpark Version:\", spark.version)"
      ]
    },
    {
      "cell_type": "code",
      "execution_count": 2,
      "metadata": {
        "colab": {
          "base_uri": "https://localhost:8080/"
        },
        "id": "1Oa1puDGOW5B",
        "outputId": "8bbf2f3b-aa17-4d5d-8929-d22ff97fd640"
      },
      "outputs": [
        {
          "name": "stdout",
          "output_type": "stream",
          "text": [
            "+-----------+-----------+-----------------------------+----------------------------+-----+\n",
            "| Read Speed|Write speed|Digital Storage Capacity (GB)|Memory Storage Capacity (GB)|index|\n",
            "+-----------+-----------+-----------------------------+----------------------------+-----+\n",
            "|        0.0|        0.0|                          0.0|                 0.001736111|    0|\n",
            "|0.001276596|        0.0|                          0.0|                     1.09E-4|    1|\n",
            "|        0.0|        0.0|                       5.0E-4|                 0.020833333|    2|\n",
            "| 0.00212766|        0.0|                          0.0|                 0.003472222|    3|\n",
            "|        0.0|        0.0|                  0.003255208|                 0.138888889|    4|\n",
            "|0.056737589|0.056737589|                      3.33E-4|                         0.0|    5|\n",
            "|0.035460993|0.035460993|                      1.67E-4|                         0.0|    6|\n",
            "|        0.0|        0.0|                        0.001|                         0.0|    7|\n",
            "|        0.0|        0.0|                      8.14E-5|                 0.003390842|    8|\n",
            "|        0.0|        0.0|                          0.0|                     4.34E-4|    9|\n",
            "|0.002836879|0.002836879|                          0.0|                     8.68E-4|   10|\n",
            "|        0.0|        0.0|                      9.77E-5|                         0.0|   11|\n",
            "|0.030496454|0.030496454|                      8.14E-5|                 0.003390842|   12|\n",
            "|        0.0|        0.0|                      4.88E-4|                 0.020833333|   13|\n",
            "|        0.0|        0.0|                      3.33E-4|                 0.013888889|   14|\n",
            "|0.002836879|0.002836879|                          0.0|                     4.34E-4|   15|\n",
            "|        0.0|        0.0|                          0.0|                     1.09E-4|   16|\n",
            "|        0.0|        0.0|                      6.67E-4|                 0.027777778|   17|\n",
            "|        0.0|        0.0|                          0.0|                 0.055555556|   18|\n",
            "|        0.0|        0.0|                      8.14E-5|                         0.0|   19|\n",
            "+-----------+-----------+-----------------------------+----------------------------+-----+\n",
            "only showing top 20 rows\n",
            "\n"
          ]
        }
      ],
      "source": [
        "from pyspark.sql.functions import monotonically_increasing_id\n",
        "from pyspark.sql import functions as f\n",
        "\n",
        "df = spark.read.csv(\"/content/data.csv\", header=True, inferSchema=True)\n",
        "df = df.select([\"Read Speed\",\"Write speed\", \"Digital Storage Capacity (GB)\", \"Memory Storage Capacity (GB)\"]).dropna()\n",
        "df = df.withColumn(\"index\", monotonically_increasing_id())\n",
        "df.show()"
      ]
    },
    {
      "cell_type": "code",
      "execution_count": 3,
      "metadata": {
        "colab": {
          "base_uri": "https://localhost:8080/"
        },
        "id": "bI3pexep-PUb",
        "outputId": "1eff8e45-fbe0-4ef4-8023-cd8f8a2682c5"
      },
      "outputs": [
        {
          "name": "stdout",
          "output_type": "stream",
          "text": [
            "+----------+-----------+-----------------------------+----------------------------+-----+-----------+-----------+-----------------------------+----------------------------+-----+--------------------+\n",
            "|Read Speed|Write speed|Digital Storage Capacity (GB)|Memory Storage Capacity (GB)|index| Read Speed|Write speed|Digital Storage Capacity (GB)|Memory Storage Capacity (GB)|index|            distance|\n",
            "+----------+-----------+-----------------------------+----------------------------+-----+-----------+-----------+-----------------------------+----------------------------+-----+--------------------+\n",
            "|       0.0|        0.0|                          0.0|                 0.001736111|    0|        0.0|        0.0|                          0.0|                 0.001736111|    0|                 0.0|\n",
            "|       0.0|        0.0|                          0.0|                 0.001736111|    0|0.001276596|        0.0|                          0.0|                     1.09E-4|    1|0.002068136251202275|\n",
            "|       0.0|        0.0|                          0.0|                 0.001736111|    0|        0.0|        0.0|                       5.0E-4|                 0.020833333|    2|0.019103766333298886|\n",
            "|       0.0|        0.0|                          0.0|                 0.001736111|    0| 0.00212766|        0.0|                          0.0|                 0.003472222|    3|0.002746091491542...|\n",
            "|       0.0|        0.0|                          0.0|                 0.001736111|    0|        0.0|        0.0|                  0.003255208|                 0.138888889|    4| 0.13719140239913194|\n",
            "|       0.0|        0.0|                          0.0|                 0.001736111|    0|0.056737589|0.056737589|                      3.33E-4|                         0.0|    5| 0.08025853837113009|\n",
            "|       0.0|        0.0|                          0.0|                 0.001736111|    0|0.035460993|0.035460993|                      1.67E-4|                         0.0|    6|0.050179737140567206|\n",
            "|       0.0|        0.0|                          0.0|                 0.001736111|    0|        0.0|        0.0|                        0.001|                         0.0|    7|0.002003517258303...|\n",
            "|       0.0|        0.0|                          0.0|                 0.001736111|    0|        0.0|        0.0|                      8.14E-5|                 0.003390842|    8|0.001656731916261952|\n",
            "|       0.0|        0.0|                          0.0|                 0.001736111|    0|        0.0|        0.0|                          0.0|                     4.34E-4|    9|0.001302111000000...|\n",
            "|       0.0|        0.0|                          0.0|                 0.001736111|    0|0.002836879|0.002836879|                          0.0|                     8.68E-4|   10|0.004104799828201493|\n",
            "|       0.0|        0.0|                          0.0|                 0.001736111|    0|        0.0|        0.0|                      9.77E-5|                         0.0|   11| 0.00173885787064987|\n",
            "|       0.0|        0.0|                          0.0|                 0.001736111|    0|0.030496454|0.030496454|                      8.14E-5|                 0.003390842|   12|0.043160307850971046|\n",
            "|       0.0|        0.0|                          0.0|                 0.001736111|    0|        0.0|        0.0|                      4.88E-4|                 0.020833333|   13|0.019103456025475703|\n",
            "|       0.0|        0.0|                          0.0|                 0.001736111|    0|        0.0|        0.0|                      3.33E-4|                 0.013888889|   14|0.012157339434155978|\n",
            "|       0.0|        0.0|                          0.0|                 0.001736111|    0|0.002836879|0.002836879|                          0.0|                     4.34E-4|   15| 0.00421796846569566|\n",
            "|       0.0|        0.0|                          0.0|                 0.001736111|    0|        0.0|        0.0|                          0.0|                     1.09E-4|   16|         0.001627111|\n",
            "|       0.0|        0.0|                          0.0|                 0.001736111|    0|        0.0|        0.0|                      6.67E-4|                 0.027777778|   17|0.026050207468250403|\n",
            "|       0.0|        0.0|                          0.0|                 0.001736111|    0|        0.0|        0.0|                          0.0|                 0.055555556|   18|         0.053819445|\n",
            "|       0.0|        0.0|                          0.0|                 0.001736111|    0|        0.0|        0.0|                      8.14E-5|                         0.0|   19|0.001738018228995...|\n",
            "+----------+-----------+-----------------------------+----------------------------+-----+-----------+-----------+-----------------------------+----------------------------+-----+--------------------+\n",
            "only showing top 20 rows\n",
            "\n"
          ]
        }
      ],
      "source": [
        "# Dùng cross join để tính khoảng cách một điểm đến cách điểm còn lại\n",
        "df1 = df.alias(\"df1\")\n",
        "df2 = df.alias(\"df2\")\n",
        "\n",
        "distance_df = df1.crossJoin(df2) \\\n",
        "    .withColumn(\n",
        "        \"distance\",\n",
        "        f.sqrt(\n",
        "            (f.col(\"df1.Read speed\") - f.col(\"df2.Read speed\"))**2 +\n",
        "            (f.col(\"df1.Write speed\") - f.col(\"df2.Write speed\"))**2 +\n",
        "            (f.col(\"df1.Digital Storage Capacity (GB)\") - f.col(\"df2.Digital Storage Capacity (GB)\"))**2 +\n",
        "            (f.col(\"df1.Memory Storage Capacity (GB)\") - f.col(\"df2.Memory Storage Capacity (GB)\"))**2\n",
        "        )\n",
        "    )\n",
        "\n",
        "distance_df.show()"
      ]
    },
    {
      "cell_type": "code",
      "execution_count": 4,
      "metadata": {
        "id": "WzaKNommWgF2"
      },
      "outputs": [],
      "source": [
        "# Khai báo eps và minPts\n",
        "eps = 0.2\n",
        "minPts = 10\n",
        "eps_broadcast = spark.sparkContext.broadcast(eps)\n",
        "minPts_broadcast = spark.sparkContext.broadcast(minPts)"
      ]
    },
    {
      "cell_type": "code",
      "execution_count": 5,
      "metadata": {
        "colab": {
          "base_uri": "https://localhost:8080/"
        },
        "id": "pkxvC3XEWoL-",
        "outputId": "cd011c49-59ac-4cb9-f817-9bebb7cae931"
      },
      "outputs": [
        {
          "name": "stdout",
          "output_type": "stream",
          "text": [
            "+-----+--------------------+\n",
            "|index|           neighbors|\n",
            "+-----+--------------------+\n",
            "|    0|[0, 356, 843, 437...|\n",
            "|    1|[0, 356, 843, 437...|\n",
            "|    5|[0, 356, 843, 437...|\n",
            "|    6|[0, 356, 843, 437...|\n",
            "|    7|[0, 356, 843, 437...|\n",
            "|    9|[0, 356, 843, 437...|\n",
            "|   10|[0, 356, 843, 437...|\n",
            "|   17|[0, 356, 843, 437...|\n",
            "|   19|[0, 356, 843, 437...|\n",
            "|   22|[0, 356, 843, 437...|\n",
            "|   25|[0, 356, 843, 437...|\n",
            "|   26|[0, 356, 843, 437...|\n",
            "|   27|[0, 356, 843, 437...|\n",
            "|   28|[0, 356, 843, 437...|\n",
            "|   29|[0, 356, 843, 437...|\n",
            "|   31|[0, 356, 843, 437...|\n",
            "|   32|[0, 356, 843, 437...|\n",
            "|   33|[0, 356, 843, 437...|\n",
            "|   34|[0, 356, 843, 437...|\n",
            "|   39|[0, 356, 843, 437...|\n",
            "+-----+--------------------+\n",
            "only showing top 20 rows\n",
            "\n"
          ]
        }
      ],
      "source": [
        "# Tính hàng xóm của mỗi điểm\n",
        "neighbors_df = distance_df.groupBy(\"df1.index\")\\\n",
        "                          .agg(f.collect_set(f.when(f.col(\"distance\") <= eps_broadcast.value, f.col(\"df2.index\")))\\\n",
        "                          .alias(\"neighbors\"))\n",
        "neighbors_df.show()"
      ]
    },
    {
      "cell_type": "code",
      "execution_count": 6,
      "metadata": {
        "colab": {
          "base_uri": "https://localhost:8080/"
        },
        "id": "K_Z-LwdpeZpL",
        "outputId": "4bd4a7d5-4084-45aa-e9a2-7802d0405f8c"
      },
      "outputs": [
        {
          "name": "stdout",
          "output_type": "stream",
          "text": [
            "+-----+--------------------+------+----------+\n",
            "|index|           neighbors|isCore|cluster_id|\n",
            "+-----+--------------------+------+----------+\n",
            "|    0|[0, 356, 843, 437...|  true|         0|\n",
            "|    1|[0, 356, 843, 437...|  true|         0|\n",
            "|    5|[0, 356, 843, 437...|  true|         0|\n",
            "|    6|[0, 356, 843, 437...|  true|         0|\n",
            "|    7|[0, 356, 843, 437...|  true|         0|\n",
            "|    9|[0, 356, 843, 437...|  true|         0|\n",
            "|   10|[0, 356, 843, 437...|  true|         0|\n",
            "|   17|[0, 356, 843, 437...|  true|         0|\n",
            "|   19|[0, 356, 843, 437...|  true|         0|\n",
            "|   22|[0, 356, 843, 437...|  true|         0|\n",
            "|   25|[0, 356, 843, 437...|  true|         0|\n",
            "|   26|[0, 356, 843, 437...|  true|         0|\n",
            "|   27|[0, 356, 843, 437...|  true|         0|\n",
            "|   28|[0, 356, 843, 437...|  true|         0|\n",
            "|   29|[0, 356, 843, 437...|  true|         0|\n",
            "|   31|[0, 356, 843, 437...|  true|         0|\n",
            "|   32|[0, 356, 843, 437...|  true|         0|\n",
            "|   33|[0, 356, 843, 437...|  true|         0|\n",
            "|   34|[0, 356, 843, 437...|  true|         0|\n",
            "|   39|[0, 356, 843, 437...|  true|         0|\n",
            "+-----+--------------------+------+----------+\n",
            "only showing top 20 rows\n",
            "\n"
          ]
        }
      ],
      "source": [
        "# Đánh dấu điểm core và khởi tạo cluster ban đầu là 0\n",
        "neighbors_df = neighbors_df.withColumn(\"isCore\", f.size(f.col(\"neighbors\")) >= minPts_broadcast.value)\\\n",
        "                          .withColumn(\"cluster_id\", f.lit(0))\n",
        "neighbors_df.show()"
      ]
    },
    {
      "cell_type": "code",
      "execution_count": 7,
      "metadata": {
        "colab": {
          "base_uri": "https://localhost:8080/"
        },
        "id": "vX_rVA1eXJbT",
        "outputId": "34e5ec0b-46f1-4bb7-8236-1a9c57b5a3dd"
      },
      "outputs": [
        {
          "name": "stdout",
          "output_type": "stream",
          "text": [
            "+--------------+\n",
            "|non_core_index|\n",
            "+--------------+\n",
            "|          1121|\n",
            "|          1642|\n",
            "|          1785|\n",
            "|          1790|\n",
            "|          1382|\n",
            "+--------------+\n",
            "\n"
          ]
        }
      ],
      "source": [
        "# Tìm các điểm non_core_points\n",
        "non_core_points = neighbors_df.filter(f.col(\"isCore\") == False).select(\"index\").withColumnRenamed(\"index\", \"non_core_index\")\n",
        "non_core_points.show()"
      ]
    },
    {
      "cell_type": "code",
      "execution_count": 8,
      "metadata": {
        "colab": {
          "base_uri": "https://localhost:8080/"
        },
        "id": "lRVQjKM3XO3I",
        "outputId": "04a3fd54-b4cf-4c21-85ce-f0186c773be7"
      },
      "outputs": [
        {
          "data": {
            "text/plain": [
              "1823"
            ]
          },
          "execution_count": 8,
          "metadata": {},
          "output_type": "execute_result"
        }
      ],
      "source": [
        "# TÌm các điểm core_points\n",
        "core_points = neighbors_df.filter(f.col(\"isCore\") == True).select(\"index\", \"neighbors\").withColumnRenamed(\"index\", \"core_index\")\n",
        "result_df = core_points.count()\n",
        "result_df"
      ]
    },
    {
      "cell_type": "code",
      "execution_count": 9,
      "metadata": {
        "colab": {
          "base_uri": "https://localhost:8080/"
        },
        "id": "TWOLgbe4Zy5e",
        "outputId": "60a9d620-3c2a-4b29-a6f4-a64800904ee8"
      },
      "outputs": [
        {
          "name": "stdout",
          "output_type": "stream",
          "text": [
            "+-----+--------+\n",
            "|index|isBorder|\n",
            "+-----+--------+\n",
            "+-----+--------+\n",
            "\n"
          ]
        }
      ],
      "source": [
        "# Tìm các điểm border_points bằng cách inner join non_core_points và core_points với điều kiện non_core_poinst xuất hiện trong neigbors\n",
        "# của core_points\n",
        "border_points = non_core_points.join(\n",
        "    core_points,\n",
        "    f.array_contains(f.col(\"neighbors\"), f.col(\"non_core_index\")),  # Điều kiện neighbors chứa non-core point\n",
        "    \"inner\"  # Giữ lại các non-core points thỏa mãn điều kiện\n",
        ").select(f.col(\"non_core_index\").alias(\"index\"))  # Chỉ cần cột index\n",
        "\n",
        "# Đánh dấu isBorder = True cho các border points\n",
        "border_points = border_points.withColumn(\"isBorder\", f.lit(True))\n",
        "border_points.show()"
      ]
    },
    {
      "cell_type": "code",
      "execution_count": 10,
      "metadata": {
        "colab": {
          "base_uri": "https://localhost:8080/"
        },
        "id": "SFDTNBZXaKAa",
        "outputId": "2cfb1a8f-5410-4350-e849-e951b4ee716b"
      },
      "outputs": [
        {
          "name": "stdout",
          "output_type": "stream",
          "text": [
            "+-----+--------------------+------+----------+--------+\n",
            "|index|           neighbors|isCore|cluster_id|isBorder|\n",
            "+-----+--------------------+------+----------+--------+\n",
            "|    0|[0, 356, 843, 437...|  true|         0|   false|\n",
            "|    1|[0, 356, 843, 437...|  true|         0|   false|\n",
            "|    5|[0, 356, 843, 437...|  true|         0|   false|\n",
            "|    6|[0, 356, 843, 437...|  true|         0|   false|\n",
            "|    7|[0, 356, 843, 437...|  true|         0|   false|\n",
            "|    9|[0, 356, 843, 437...|  true|         0|   false|\n",
            "|   10|[0, 356, 843, 437...|  true|         0|   false|\n",
            "|   17|[0, 356, 843, 437...|  true|         0|   false|\n",
            "|   19|[0, 356, 843, 437...|  true|         0|   false|\n",
            "|   22|[0, 356, 843, 437...|  true|         0|   false|\n",
            "|   25|[0, 356, 843, 437...|  true|         0|   false|\n",
            "|   26|[0, 356, 843, 437...|  true|         0|   false|\n",
            "|   27|[0, 356, 843, 437...|  true|         0|   false|\n",
            "|   28|[0, 356, 843, 437...|  true|         0|   false|\n",
            "|   29|[0, 356, 843, 437...|  true|         0|   false|\n",
            "|   31|[0, 356, 843, 437...|  true|         0|   false|\n",
            "|   32|[0, 356, 843, 437...|  true|         0|   false|\n",
            "|   33|[0, 356, 843, 437...|  true|         0|   false|\n",
            "|   34|[0, 356, 843, 437...|  true|         0|   false|\n",
            "|   39|[0, 356, 843, 437...|  true|         0|   false|\n",
            "+-----+--------------------+------+----------+--------+\n",
            "only showing top 20 rows\n",
            "\n"
          ]
        }
      ],
      "source": [
        "# Thực hiện neighbors left join border_poinst để thêm  cột các điểm border vừa tính ở trên\n",
        "neighbors_df = neighbors_df.join(\n",
        "    border_points,\n",
        "    \"index\",\n",
        "    \"left\"  # Giữ lại tất cả các điểm trong neighbors_df\n",
        ").withColumn(\n",
        "    \"isBorder\",\n",
        "    f.when(f.col(\"isBorder\").isNull(), False).otherwise(f.col(\"isBorder\"))  # Mặc định False nếu không phải border\n",
        ")\n",
        "neighbors_df.show()"
      ]
    },
    {
      "cell_type": "code",
      "execution_count": 11,
      "metadata": {
        "id": "bmTuzZWqd6tr"
      },
      "outputs": [],
      "source": [
        "# Khai báo hàm xác định rdd có rỗng không\n",
        "def is_empty(df):\n",
        "    return df.rdd.isEmpty()"
      ]
    },
    {
      "cell_type": "code",
      "execution_count": 12,
      "metadata": {
        "id": "KIQSycshausj"
      },
      "outputs": [],
      "source": [
        "def expand_cluster(df, cluster_id):\n",
        "    while True:\n",
        "        # Lấy các điểm thuộc cụm hiện tại\n",
        "        cluster_points = df.filter(f.col(\"cluster_id\") == cluster_id)\n",
        "\n",
        "        # Lấy danh sách hàng xóm của các điểm trong cụm\n",
        "        neighbors = cluster_points.select(f.explode(f.col(\"neighbors\")).alias(\"neighbor_index\")).distinct()\n",
        "\n",
        "        # Lọc các điểm mới, chỉ giữ lại các điểm mới bằng left anti join\n",
        "        new_points = df.join(neighbors, f.col(\"index\") == f.col(\"neighbor_index\"), \"left_anti\") \\\n",
        "            .filter(f.col(\"cluster_id\") == 0) \\\n",
        "            .select(\"index\", \"isCore\", \"isBorder\").distinct()\n",
        "\n",
        "        # Tách các điểm lõi và biên\n",
        "        core_points = new_points.filter(f.col(\"isCore\") == True)\n",
        "        border_points = new_points.filter(f.col(\"isBorder\") == True)\n",
        "\n",
        "        # Kiểm tra nếu không có điểm mới\n",
        "        if is_empty(core_points) and is_empty(border_points):\n",
        "            break\n",
        "\n",
        "        # Gán cluster_id cho cả core points và border points\n",
        "        df = df.join(core_points.select(\"index\").withColumnRenamed(\"index\", \"core_index\"),\n",
        "                     f.col(\"index\") == f.col(\"core_index\"), \"left\") \\\n",
        "            .join(border_points.select(\"index\").withColumnRenamed(\"index\", \"border_index\"),\n",
        "                  f.col(\"index\") == f.col(\"border_index\"), \"left\") \\\n",
        "            .withColumn(\"cluster_id\",\n",
        "                        f.when(f.col(\"core_index\").isNotNull(), cluster_id)\n",
        "                         .when(f.col(\"border_index\").isNotNull(), cluster_id)\n",
        "                         .otherwise(f.col(\"cluster_id\"))) \\\n",
        "            .drop(\"core_index\", \"border_index\")\n",
        "        # Đảm bảo lưu trữ ở executor cluster, tránh tính lại nhiều lần\n",
        "        df = df.cache()\n",
        "    return df\n"
      ]
    },
    {
      "cell_type": "code",
      "execution_count": 13,
      "metadata": {
        "id": "YjbAlluSufo6"
      },
      "outputs": [],
      "source": [
        "cluster_id = 0\n",
        "\n",
        "while not neighbors_df.filter((f.col(\"isCore\")) & (f.col(\"cluster_id\") == 0)).isEmpty():\n",
        "    # Lấy điểm core đầu tiên chưa thuộc cụm nào\n",
        "    core_point = neighbors_df.filter((f.col(\"isCore\")) & (f.col(\"cluster_id\") == 0)).limit(1)\n",
        "\n",
        "    neighbors = core_point.select(f.explode(f.col(\"neighbors\")).alias(\"neighbor_index\")).distinct()\n",
        "\n",
        "    # Gán cluster_id cho điểm core này, sử dụng neighbors_df left join neighbors để cập nhật cluseter_id\n",
        "    cluster_id += 1\n",
        "    neighbors_df = neighbors_df.alias(\"df1\").join(\n",
        "        neighbors.alias(\"neighbors\"),\n",
        "        f.col(\"df1.index\") == f.col(\"neighbors.neighbor_index\"),\n",
        "        \"left\"\n",
        "    ).withColumn(\n",
        "        \"cluster_id\",\n",
        "        f.when(f.col(\"neighbors.neighbor_index\").isNotNull(), cluster_id).otherwise(f.col(\"df1.cluster_id\"))\n",
        "    ).drop(\"neighbor_index\")\n",
        "\n",
        "    # Mở rộng cụm bằng cách gọi expand_cluster\n",
        "    neighbors_df = expand_cluster(neighbors_df, cluster_id)\n"
      ]
    },
    {
      "cell_type": "code",
      "execution_count": 14,
      "metadata": {
        "colab": {
          "base_uri": "https://localhost:8080/"
        },
        "id": "kjVVSL_ipj3Y",
        "outputId": "14433bba-7d1b-4afc-af51-970fb082df9c"
      },
      "outputs": [
        {
          "name": "stdout",
          "output_type": "stream",
          "text": [
            "+----------+-----+\n",
            "|cluster_id|count|\n",
            "+----------+-----+\n",
            "|         1| 1787|\n",
            "|         2|   36|\n",
            "|         0|    5|\n",
            "+----------+-----+\n",
            "\n"
          ]
        }
      ],
      "source": [
        "# Xem kết quả cuối cùng\n",
        "neighbors_df.groupBy(\"cluster_id\").count().show()"
      ]
    },
    {
      "cell_type": "markdown",
      "metadata": {},
      "source": [
        "Tính Silhoutte "
      ]
    },
    {
      "cell_type": "code",
      "execution_count": 15,
      "metadata": {
        "colab": {
          "base_uri": "https://localhost:8080/"
        },
        "id": "hqy3SNjr0ICO",
        "outputId": "5f4c78c1-b7b9-40e9-8472-623818a7a1bf"
      },
      "outputs": [
        {
          "name": "stdout",
          "output_type": "stream",
          "text": [
            "+-----+--------------------+------+----------+--------+\n",
            "|index|           neighbors|isCore|cluster_id|isBorder|\n",
            "+-----+--------------------+------+----------+--------+\n",
            "|   26|[0, 356, 843, 437...|  true|         1|   false|\n",
            "|   29|[0, 356, 843, 437...|  true|         1|   false|\n",
            "|  474|[0, 356, 843, 437...|  true|         1|   false|\n",
            "|  964|[0, 356, 843, 437...|  true|         1|   false|\n",
            "| 1677|[0, 356, 843, 437...|  true|         1|   false|\n",
            "| 1697|[0, 356, 843, 437...|  true|         1|   false|\n",
            "| 1806|[0, 356, 843, 437...|  true|         1|   false|\n",
            "|   65|[0, 356, 843, 437...|  true|         1|   false|\n",
            "|  191|[0, 356, 843, 437...|  true|         1|   false|\n",
            "|  418|[0, 356, 843, 437...|  true|         1|   false|\n",
            "+-----+--------------------+------+----------+--------+\n",
            "only showing top 10 rows\n",
            "\n"
          ]
        }
      ],
      "source": [
        "neighbors_df.show(10)"
      ]
    },
    {
      "cell_type": "code",
      "execution_count": 16,
      "metadata": {
        "colab": {
          "base_uri": "https://localhost:8080/"
        },
        "id": "jP80o1n3oK7Q",
        "outputId": "1ccf2fa0-bafb-4e8e-d5d0-6bb54a89096c"
      },
      "outputs": [
        {
          "name": "stdout",
          "output_type": "stream",
          "text": [
            "+------+------+---------------------+-----------+-----------+\n",
            "|index1|index2|distance             |cluster_id1|cluster_id2|\n",
            "+------+------+---------------------+-----------+-----------+\n",
            "|26    |0     |0.001643427837272145 |1          |1          |\n",
            "|65    |0     |8.681110000000001E-4 |1          |1          |\n",
            "|222   |0     |0.002648411109386343 |1          |1          |\n",
            "|243   |0     |0.0019112436281963113|1          |1          |\n",
            "|19    |0     |0.0017380182289955994|1          |1          |\n",
            "|502   |0     |0.0021890313595766507|1          |1          |\n",
            "|112   |0     |0.006157188696137466 |1          |1          |\n",
            "|237   |0     |0.0018598307461489608|1          |1          |\n",
            "|22    |0     |0.008070731013265341 |1          |1          |\n",
            "|130   |0     |0.012157339434155978 |1          |1          |\n",
            "+------+------+---------------------+-----------+-----------+\n",
            "only showing top 10 rows\n",
            "\n"
          ]
        }
      ],
      "source": [
        "# Loại bỏ khoảng cách đến chính điểm đó\n",
        "total_distance_df = distance_df.select([\"df1.index\", \"df2.index\", \"distance\"]).filter(f.col(\"df1.index\") != f.col(\"df2.index\"))\n",
        "total_distance_df = total_distance_df.toDF(\"index1\",\"index2\",\"distance\")\n",
        "# Lấy các cluster_id của index1\n",
        "test_df = total_distance_df.join(neighbors_df, f.col(\"index1\") == f.col(\"index\"), \"left\").drop(\"neighbors\",\"isCore\",\"isBorder\",\"index\").filter(f.col(\"cluster_id\") != 0)\n",
        "# Lấy các cluster_id của index2\n",
        "test_df = test_df.join(neighbors_df, f.col(\"index2\") == f.col(\"index\"), \"left\").drop(\"neighbors\",\"isCore\",\"isBorder\",\"index\")\n",
        "test_df = test_df.toDF(\"index1\",\"index2\",\"distance\", \"cluster_id1\",\"cluster_id2\")\n",
        "test_df.show(10, truncate=False)"
      ]
    },
    {
      "cell_type": "code",
      "execution_count": 17,
      "metadata": {
        "colab": {
          "base_uri": "https://localhost:8080/"
        },
        "id": "T9crtu_26uWm",
        "outputId": "b187cc8e-b572-4564-f301-8e69f93fda08"
      },
      "outputs": [
        {
          "name": "stdout",
          "output_type": "stream",
          "text": [
            "+------+-----------+--------------------+\n",
            "|index1|cluster_id1|a_i                 |\n",
            "+------+-----------+--------------------+\n",
            "|1200  |1          |0.029501533993814565|\n",
            "|212   |1          |0.03059192119557309 |\n",
            "|138   |1          |0.04253444995376644 |\n",
            "|177   |1          |0.03628905853523964 |\n",
            "|467   |1          |0.15015835774502337 |\n",
            "|1013  |1          |0.036983100222320174|\n",
            "|1047  |1          |0.02952504003274591 |\n",
            "|1486  |1          |0.03058940465399798 |\n",
            "|1577  |1          |0.029602419410803795|\n",
            "|1454  |1          |0.06828300027592771 |\n",
            "+------+-----------+--------------------+\n",
            "only showing top 10 rows\n",
            "\n"
          ]
        }
      ],
      "source": [
        "# Group_by để tính khoảng cách trung bình của 1 điểm trong cụm\n",
        "ai_df = test_df.groupBy(\"index1\", \"cluster_id1\").agg(f.avg(\"distance\").alias(\"a_i\"))\n",
        "ai_df.show(10, truncate = False)"
      ]
    },
    {
      "cell_type": "code",
      "execution_count": 18,
      "metadata": {
        "colab": {
          "base_uri": "https://localhost:8080/"
        },
        "id": "7LyIdqiOBwIL",
        "outputId": "9298f1d6-8d8b-44f5-ee4a-d9115f32343e"
      },
      "outputs": [
        {
          "name": "stdout",
          "output_type": "stream",
          "text": [
            "+------+-----------+-------------------+\n",
            "|index1|cluster_id1|b_i                |\n",
            "+------+-----------+-------------------+\n",
            "|1486  |1          |0.3426954399441209 |\n",
            "|212   |1          |0.34269559496346275|\n",
            "|1577  |1          |0.3428375764008859 |\n",
            "|1013  |1          |0.3335608397564385 |\n",
            "|1047  |1          |0.34289112346901757|\n",
            "|1454  |1          |0.2900500902782739 |\n",
            "|780   |1          |0.34286404935037473|\n",
            "|1676  |1          |0.3340303845192066 |\n",
            "|482   |1          |0.34286404935037473|\n",
            "|467   |1          |0.36293920899747434|\n",
            "+------+-----------+-------------------+\n",
            "only showing top 10 rows\n",
            "\n"
          ]
        }
      ],
      "source": [
        "# Group_by để tính khoảng cách đến cách cụm khác\n",
        "bi_df = test_df.filter(f.col(\"cluster_id1\") != f.col(\"cluster_id2\")).groupBy(\"index1\", \"cluster_id1\", \"cluster_id2\").agg(f.avg(\"distance\").alias(\"avg_b_i\"))\n",
        "# Group by để tính khoảng cách nhỏ nhất đến cụm khác\n",
        "bi_df = bi_df.groupBy(\"index1\", \"cluster_id1\").agg(f.min(\"avg_b_i\").alias(\"b_i\"))\n",
        "bi_df.show(10, truncate = False)"
      ]
    },
    {
      "cell_type": "code",
      "execution_count": 19,
      "metadata": {
        "id": "Xb0hcWR1472b"
      },
      "outputs": [],
      "source": [
        "# a_i inner join b_i, chỉ giữ lại cột index1, a_i, b_i\n",
        "silhouette_df = ai_df.join(bi_df, \"index1\").drop(\"cluster_id1\")\n",
        "# Tính silhoutte từng điểm\n",
        "silhouette_df = silhouette_df.withColumn(\"silhouette\", (f.col(\"b_i\") - f.col(\"a_i\")) / f.greatest(f.col(\"a_i\"), f.col(\"b_i\")))\n",
        "silhouette_df = silhouette_df.drop(\"a_i\", \"b_i\")\n",
        "#silhouette_df.select(\"index1\", \"silhouette\").show(10, truncate=False)"
      ]
    },
    {
      "cell_type": "code",
      "execution_count": 20,
      "metadata": {
        "colab": {
          "base_uri": "https://localhost:8080/"
        },
        "id": "E8CHW48g3lk7",
        "outputId": "7ffc2151-9d3d-45c8-948e-f47b6d9b214c"
      },
      "outputs": [
        {
          "name": "stdout",
          "output_type": "stream",
          "text": [
            "[Row(avg_silhouette=0.8554276354987757)]\n"
          ]
        }
      ],
      "source": [
        "# Tính silhoutte trung bình\n",
        "silhouette_df = silhouette_df.select(\"silhouette\")\n",
        "average_silhouette_df = silhouette_df.agg(f.avg(\"silhouette\").alias(\"avg_silhouette\"))\n",
        "result = average_silhouette_df.take(1)\n",
        "print(result)"
      ]
    },
    {
      "cell_type": "markdown",
      "metadata": {},
      "source": [
        "Restart Spark session để tính Heatmmap"
      ]
    },
    {
      "cell_type": "code",
      "execution_count": 22,
      "metadata": {
        "id": "kH48cZ1mxxCm"
      },
      "outputs": [],
      "source": [
        "def DBSCAN(df, eps, minPts):\n",
        "  df1 = df.alias(\"df1\")\n",
        "  df2 = df.alias(\"df2\")\n",
        "\n",
        "  distance_df = df1.crossJoin(df2) \\\n",
        "    .withColumn(\n",
        "        \"distance\",\n",
        "        f.sqrt(\n",
        "            (f.col(\"df1.Read speed\") - f.col(\"df2.Read speed\"))**2 +\n",
        "            (f.col(\"df1.Write speed\") - f.col(\"df2.Write speed\"))**2 +\n",
        "            (f.col(\"df1.Digital Storage Capacity (GB)\") - f.col(\"df2.Digital Storage Capacity (GB)\"))**2 +\n",
        "            (f.col(\"df1.Memory Storage Capacity (GB)\") - f.col(\"df2.Memory Storage Capacity (GB)\"))**2\n",
        "        )\n",
        "    )\n",
        "\n",
        "  eps_broadcast = spark.sparkContext.broadcast(eps)\n",
        "  minPts_broadcast = spark.sparkContext.broadcast(minPts)\n",
        "\n",
        "  neighbors_df = distance_df.groupBy(\"df1.index\")\\\n",
        "                            .agg(f.collect_set(f.when(f.col(\"distance\") <= eps_broadcast.value, f.col(\"df2.index\")))\\\n",
        "                            .alias(\"neighbors\"))\n",
        "  neighbors_df = neighbors_df.withColumn(\"isCore\", f.size(f.col(\"neighbors\")) >= minPts_broadcast.value)\\\n",
        "                              .withColumn(\"cluster_id\", f.lit(0))\n",
        "  non_core_points = neighbors_df.filter(f.col(\"isCore\") == False).select(\"index\").withColumnRenamed(\"index\", \"non_core_index\")\n",
        "  core_points = neighbors_df.filter(f.col(\"isCore\") == True).select(\"index\", \"neighbors\").withColumnRenamed(\"index\", \"core_index\")\n",
        "  border_points = non_core_points.join(\n",
        "    core_points,\n",
        "    f.array_contains(f.col(\"neighbors\"), f.col(\"non_core_index\")),  # Điều kiện neighbors chứa non-core point\n",
        "    \"inner\"  # Giữ lại các non-core points thỏa mãn điều kiện\n",
        "  ).select(f.col(\"non_core_index\").alias(\"index\"))  # Chỉ cần cột index\n",
        "\n",
        "  # Đánh dấu isBorder = True cho các border points\n",
        "  border_points = border_points.withColumn(\"isBorder\", f.lit(True))\n",
        "\n",
        "  neighbors_df = neighbors_df.join(\n",
        "    border_points,\n",
        "    \"index\",\n",
        "    \"left\"  # Giữ lại tất cả các điểm trong neighbors_df\n",
        "  ).withColumn(\n",
        "    \"isBorder\",\n",
        "    f.when(f.col(\"isBorder\").isNull(), False).otherwise(f.col(\"isBorder\"))  # Mặc định False nếu không phải border\n",
        "  )\n",
        "\n",
        "  def is_empty(df):\n",
        "    return df.rdd.isEmpty()\n",
        "\n",
        "  def expand_cluster(df, cluster_id):\n",
        "    while True:\n",
        "        # Lấy các điểm thuộc cụm hiện tại\n",
        "        cluster_points = df.filter(f.col(\"cluster_id\") == cluster_id)\n",
        "\n",
        "        # Lấy danh sách hàng xóm của các điểm trong cụm\n",
        "        neighbors = cluster_points.select(f.explode(f.col(\"neighbors\")).alias(\"neighbor_index\")).distinct()\n",
        "\n",
        "        # Phân loại điểm mới:\n",
        "        new_points = df.join(neighbors, f.col(\"index\") == f.col(\"neighbor_index\"), \"left_anti\") \\\n",
        "            .filter(f.col(\"cluster_id\") == 0) \\\n",
        "            .select(\"index\", \"isCore\", \"isBorder\").distinct()\n",
        "\n",
        "        # Tách các điểm lõi và biên\n",
        "        core_points = new_points.filter(f.col(\"isCore\") == True)\n",
        "        border_points = new_points.filter(f.col(\"isBorder\") == True)\n",
        "\n",
        "        # Kiểm tra nếu không có điểm mới\n",
        "        if is_empty(core_points) and is_empty(border_points):\n",
        "            break\n",
        "\n",
        "        # Gán cluster_id cho cả core points và border points\n",
        "        df = df.join(core_points.select(\"index\").withColumnRenamed(\"index\", \"core_index\"),\n",
        "                     f.col(\"index\") == f.col(\"core_index\"), \"left\") \\\n",
        "            .join(border_points.select(\"index\").withColumnRenamed(\"index\", \"border_index\"),\n",
        "                  f.col(\"index\") == f.col(\"border_index\"), \"left\") \\\n",
        "            .withColumn(\"cluster_id\",\n",
        "                        f.when(f.col(\"core_index\").isNotNull(), cluster_id)\n",
        "                         .when(f.col(\"border_index\").isNotNull(), cluster_id)\n",
        "                         .otherwise(f.col(\"cluster_id\"))) \\\n",
        "            .drop(\"core_index\", \"border_index\")\n",
        "        df = df.cache()\n",
        "    return df\n",
        "\n",
        "  cluster_id = 0\n",
        "\n",
        "  while not neighbors_df.filter((f.col(\"isCore\")) & (f.col(\"cluster_id\") == 0)).isEmpty():\n",
        "    # Lấy điểm core đầu tiên chưa thuộc cụm nào\n",
        "    core_point = neighbors_df.filter((f.col(\"isCore\")) & (f.col(\"cluster_id\") == 0)).limit(1)\n",
        "\n",
        "    neighbors = core_point.select(f.explode(f.col(\"neighbors\")).alias(\"neighbor_index\")).distinct()\n",
        "\n",
        "    # Gán cluster_id cho điểm core này\n",
        "    cluster_id += 1\n",
        "    neighbors_df = neighbors_df.alias(\"df1\").join(\n",
        "        neighbors.alias(\"neighbors\"),\n",
        "        f.col(\"df1.index\") == f.col(\"neighbors.neighbor_index\"),\n",
        "        \"left\"\n",
        "    ).withColumn(\n",
        "        \"cluster_id\",\n",
        "        f.when(f.col(\"neighbors.neighbor_index\").isNotNull(), cluster_id).otherwise(f.col(\"df1.cluster_id\"))\n",
        "    ).drop(\"neighbor_index\")\n",
        "\n",
        "    # Mở rộng cụm bằng cách gọi expand_cluster\n",
        "    neighbors_df = expand_cluster(neighbors_df, cluster_id)\n",
        "  return neighbors_df.groupBy(\"cluster_id\").count()"
      ]
    },
    {
      "cell_type": "code",
      "execution_count": null,
      "metadata": {
        "colab": {
          "base_uri": "https://localhost:8080/",
          "height": 564
        },
        "id": "25sNik28x9OJ",
        "outputId": "80eaa4fd-ee0d-491d-d955-52e4a79a57c7"
      },
      "outputs": [
        {
          "data": {
            "image/png": "[encoded data removed]",
            "text/plain": [
              "<Figure size 800x600 with 2 Axes>"
            ]
          },
          "metadata": {},
          "output_type": "display_data"
        }
      ],
      "source": [
        "import numpy as np\n",
        "import matplotlib.pyplot as plt\n",
        "import seaborn as sns\n",
        "\n",
        "# Sử dụng giá trị eps cụ thể\n",
        "eps_values = [0.15, 0.2]\n",
        "minPts_values = [10, 12]\n",
        "results = []\n",
        "\n",
        "# Thực hiện vòng lặp để tính số cụm\n",
        "for eps in eps_values:\n",
        "    row = []  # Một hàng trong ma trận heatmap\n",
        "    for minPts in minPts_values:\n",
        "        # Gọi hàm DBSCAN để nhận DataFrame\n",
        "        cluster_df = DBSCAN(df, eps, minPts)\n",
        "\n",
        "        # Tính số lượng cụm (lọc cụm nhiễu nếu có)\n",
        "        num_clusters = cluster_df.filter(cluster_df[\"cluster_id\"] != 0).count()\n",
        "\n",
        "        # Ghi lại kết quả cho hàng hiện tại\n",
        "        row.append(num_clusters)\n",
        "    results.append(row)\n",
        "\n",
        "# Vẽ heatmap từ ma trận kết quả\n",
        "plt.figure(figsize=(8, 6))\n",
        "sns.heatmap(\n",
        "    np.array(results).T,  # Chuyển kết quả thành numpy array và transpose\n",
        "    annot=True,\n",
        "    fmt=\"d\",\n",
        "    cmap=\"YlGnBu\",\n",
        "    cbar=True,\n",
        "    xticklabels=eps_values,  # Sử dụng trực tiếp danh sách eps_values làm nhãn\n",
        "    yticklabels=minPts_values,\n",
        ")\n",
        "plt.title(\"Number of Clusters by eps and minPts\")\n",
        "plt.xlabel(\"eps\")\n",
        "plt.ylabel(\"minPts\")\n",
        "plt.show()\n"
      ]
    }
  ],
  "metadata": {
    "colab": {
      "provenance": []
    },
    "kernelspec": {
      "display_name": "Python 3",
      "name": "python3"
    },
    "language_info": {
      "name": "python"
    }
  },
  "nbformat": 4,
  "nbformat_minor": 0
}
